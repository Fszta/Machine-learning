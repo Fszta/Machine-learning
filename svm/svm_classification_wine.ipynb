{
 "cells": [
  {
   "cell_type": "code",
   "execution_count": 1,
   "metadata": {},
   "outputs": [
    {
     "name": "stderr",
     "output_type": "stream",
     "text": [
      "Using TensorFlow backend.\n",
      "/usr/local/lib/python3.5/dist-packages/h5py/__init__.py:36: FutureWarning: Conversion of the second argument of issubdtype from `float` to `np.floating` is deprecated. In future, it will be treated as `np.float64 == np.dtype(float).type`.\n",
      "  from ._conv import register_converters as _register_converters\n"
     ]
    }
   ],
   "source": [
    "import numpy as np\n",
    "import pandas as pd\n",
    "import matplotlib.pyplot as plt\n",
    "from sklearn import datasets\n",
    "from sklearn.model_selection import train_test_split\n",
    "from sklearn.model_selection import GridSearchCV\n",
    "from sklearn.metrics import classification_report\n",
    "from sklearn.preprocessing import LabelEncoder\n",
    "from sklearn.svm import SVC\n",
    "from keras.utils import np_utils"
   ]
  },
  {
   "cell_type": "markdown",
   "metadata": {},
   "source": [
    "## Chargement data"
   ]
  },
  {
   "cell_type": "code",
   "execution_count": 2,
   "metadata": {
    "scrolled": true
   },
   "outputs": [
    {
     "data": {
      "text/html": [
       "<div>\n",
       "<style scoped>\n",
       "    .dataframe tbody tr th:only-of-type {\n",
       "        vertical-align: middle;\n",
       "    }\n",
       "\n",
       "    .dataframe tbody tr th {\n",
       "        vertical-align: top;\n",
       "    }\n",
       "\n",
       "    .dataframe thead th {\n",
       "        text-align: right;\n",
       "    }\n",
       "</style>\n",
       "<table border=\"1\" class=\"dataframe\">\n",
       "  <thead>\n",
       "    <tr style=\"text-align: right;\">\n",
       "      <th></th>\n",
       "      <th>alcohol</th>\n",
       "      <th>malic_acid</th>\n",
       "      <th>ash</th>\n",
       "      <th>alcalinity_of_ash</th>\n",
       "      <th>magnesium</th>\n",
       "      <th>total_phenols</th>\n",
       "      <th>flavanoids</th>\n",
       "      <th>nonflavanoid_phenols</th>\n",
       "      <th>proanthocyanins</th>\n",
       "      <th>color_intensity</th>\n",
       "      <th>hue</th>\n",
       "      <th>od280/od315_of_diluted_wines</th>\n",
       "      <th>proline</th>\n",
       "      <th>target</th>\n",
       "    </tr>\n",
       "  </thead>\n",
       "  <tbody>\n",
       "    <tr>\n",
       "      <th>0</th>\n",
       "      <td>14.23</td>\n",
       "      <td>1.71</td>\n",
       "      <td>2.43</td>\n",
       "      <td>15.6</td>\n",
       "      <td>127.0</td>\n",
       "      <td>2.80</td>\n",
       "      <td>3.06</td>\n",
       "      <td>0.28</td>\n",
       "      <td>2.29</td>\n",
       "      <td>5.64</td>\n",
       "      <td>1.04</td>\n",
       "      <td>3.92</td>\n",
       "      <td>1065.0</td>\n",
       "      <td>0.0</td>\n",
       "    </tr>\n",
       "    <tr>\n",
       "      <th>1</th>\n",
       "      <td>13.20</td>\n",
       "      <td>1.78</td>\n",
       "      <td>2.14</td>\n",
       "      <td>11.2</td>\n",
       "      <td>100.0</td>\n",
       "      <td>2.65</td>\n",
       "      <td>2.76</td>\n",
       "      <td>0.26</td>\n",
       "      <td>1.28</td>\n",
       "      <td>4.38</td>\n",
       "      <td>1.05</td>\n",
       "      <td>3.40</td>\n",
       "      <td>1050.0</td>\n",
       "      <td>0.0</td>\n",
       "    </tr>\n",
       "    <tr>\n",
       "      <th>2</th>\n",
       "      <td>13.16</td>\n",
       "      <td>2.36</td>\n",
       "      <td>2.67</td>\n",
       "      <td>18.6</td>\n",
       "      <td>101.0</td>\n",
       "      <td>2.80</td>\n",
       "      <td>3.24</td>\n",
       "      <td>0.30</td>\n",
       "      <td>2.81</td>\n",
       "      <td>5.68</td>\n",
       "      <td>1.03</td>\n",
       "      <td>3.17</td>\n",
       "      <td>1185.0</td>\n",
       "      <td>0.0</td>\n",
       "    </tr>\n",
       "    <tr>\n",
       "      <th>3</th>\n",
       "      <td>14.37</td>\n",
       "      <td>1.95</td>\n",
       "      <td>2.50</td>\n",
       "      <td>16.8</td>\n",
       "      <td>113.0</td>\n",
       "      <td>3.85</td>\n",
       "      <td>3.49</td>\n",
       "      <td>0.24</td>\n",
       "      <td>2.18</td>\n",
       "      <td>7.80</td>\n",
       "      <td>0.86</td>\n",
       "      <td>3.45</td>\n",
       "      <td>1480.0</td>\n",
       "      <td>0.0</td>\n",
       "    </tr>\n",
       "    <tr>\n",
       "      <th>4</th>\n",
       "      <td>13.24</td>\n",
       "      <td>2.59</td>\n",
       "      <td>2.87</td>\n",
       "      <td>21.0</td>\n",
       "      <td>118.0</td>\n",
       "      <td>2.80</td>\n",
       "      <td>2.69</td>\n",
       "      <td>0.39</td>\n",
       "      <td>1.82</td>\n",
       "      <td>4.32</td>\n",
       "      <td>1.04</td>\n",
       "      <td>2.93</td>\n",
       "      <td>735.0</td>\n",
       "      <td>0.0</td>\n",
       "    </tr>\n",
       "  </tbody>\n",
       "</table>\n",
       "</div>"
      ],
      "text/plain": [
       "   alcohol  malic_acid   ash  alcalinity_of_ash  magnesium  total_phenols  \\\n",
       "0    14.23        1.71  2.43               15.6      127.0           2.80   \n",
       "1    13.20        1.78  2.14               11.2      100.0           2.65   \n",
       "2    13.16        2.36  2.67               18.6      101.0           2.80   \n",
       "3    14.37        1.95  2.50               16.8      113.0           3.85   \n",
       "4    13.24        2.59  2.87               21.0      118.0           2.80   \n",
       "\n",
       "   flavanoids  nonflavanoid_phenols  proanthocyanins  color_intensity   hue  \\\n",
       "0        3.06                  0.28             2.29             5.64  1.04   \n",
       "1        2.76                  0.26             1.28             4.38  1.05   \n",
       "2        3.24                  0.30             2.81             5.68  1.03   \n",
       "3        3.49                  0.24             2.18             7.80  0.86   \n",
       "4        2.69                  0.39             1.82             4.32  1.04   \n",
       "\n",
       "   od280/od315_of_diluted_wines  proline  target  \n",
       "0                          3.92   1065.0     0.0  \n",
       "1                          3.40   1050.0     0.0  \n",
       "2                          3.17   1185.0     0.0  \n",
       "3                          3.45   1480.0     0.0  \n",
       "4                          2.93    735.0     0.0  "
      ]
     },
     "execution_count": 2,
     "metadata": {},
     "output_type": "execute_result"
    }
   ],
   "source": [
    "data_wine = datasets.load_wine()\n",
    "\n",
    "# Transformation du dataset en pandas dataframe\n",
    "data_wine = pd.DataFrame(data= np.c_[data_wine['data'], data_wine['target']],\n",
    "                     columns= data_wine['feature_names'] + ['target'])\n",
    "# Affichage du dataset\n",
    "data_wine.head()"
   ]
  },
  {
   "cell_type": "markdown",
   "metadata": {},
   "source": [
    "## Séparation des données"
   ]
  },
  {
   "cell_type": "code",
   "execution_count": 3,
   "metadata": {},
   "outputs": [],
   "source": [
    "X = data_wine.iloc[:, [0,12]].values\n",
    "y = data_wine.iloc[:,[13]].values\n",
    "y=np.ravel(y,order='C')\n",
    "X_train, X_test, y_train, y_test = train_test_split(X,y,test_size = 0.33)"
   ]
  },
  {
   "cell_type": "markdown",
   "metadata": {},
   "source": [
    "## Optimisation: kernel et hyper-paramètre C / gamma"
   ]
  },
  {
   "cell_type": "code",
   "execution_count": 4,
   "metadata": {},
   "outputs": [
    {
     "name": "stdout",
     "output_type": "stream",
     "text": [
      "# Optimisation des hyperparamètres pour precision\n",
      "\n",
      "Meilleurs paramètres:\n",
      "\n",
      "{'kernel': 'linear', 'C': 10}\n",
      "\n",
      "Grid scores:\n",
      "\n",
      "0.679 (+/-0.243) pour {'gamma': 0.001, 'kernel': 'rbf', 'C': 1}\n",
      "0.691 (+/-0.115) pour {'gamma': 0.0001, 'kernel': 'rbf', 'C': 1}\n",
      "0.573 (+/-0.117) pour {'gamma': 0.001, 'kernel': 'rbf', 'C': 10}\n",
      "0.663 (+/-0.136) pour {'gamma': 0.0001, 'kernel': 'rbf', 'C': 10}\n",
      "0.633 (+/-0.146) pour {'gamma': 0.001, 'kernel': 'rbf', 'C': 100}\n",
      "0.663 (+/-0.152) pour {'gamma': 0.0001, 'kernel': 'rbf', 'C': 100}\n",
      "0.711 (+/-0.071) pour {'gamma': 0.001, 'kernel': 'rbf', 'C': 1000}\n",
      "0.737 (+/-0.177) pour {'gamma': 0.0001, 'kernel': 'rbf', 'C': 1000}\n",
      "0.857 (+/-0.081) pour {'kernel': 'linear', 'C': 1}\n",
      "0.874 (+/-0.105) pour {'kernel': 'linear', 'C': 10}\n",
      "0.857 (+/-0.161) pour {'kernel': 'linear', 'C': 100}\n",
      "0.849 (+/-0.105) pour {'kernel': 'linear', 'C': 1000}\n",
      "\n",
      "Rapport de classification:\n",
      "\n",
      "Le modèle est entraîné sur le jeu d'entraînement complet.\n",
      "Les scores sont calculés sur le jeu d'évaluation complet.\n",
      "\n",
      "             precision    recall  f1-score   support\n",
      "\n",
      "        0.0       0.86      0.86      0.86        21\n",
      "        1.0       0.82      0.86      0.84        21\n",
      "        2.0       0.75      0.71      0.73        17\n",
      "\n",
      "avg / total       0.81      0.81      0.81        59\n",
      "\n",
      "\n",
      "# Optimisation des hyperparamètres pour recall\n",
      "\n",
      "Meilleurs paramètres:\n",
      "\n",
      "{'kernel': 'linear', 'C': 10}\n",
      "\n",
      "Grid scores:\n",
      "\n",
      "0.633 (+/-0.202) pour {'gamma': 0.001, 'kernel': 'rbf', 'C': 1}\n",
      "0.685 (+/-0.104) pour {'gamma': 0.0001, 'kernel': 'rbf', 'C': 1}\n",
      "0.572 (+/-0.145) pour {'gamma': 0.001, 'kernel': 'rbf', 'C': 10}\n",
      "0.653 (+/-0.187) pour {'gamma': 0.0001, 'kernel': 'rbf', 'C': 10}\n",
      "0.612 (+/-0.158) pour {'gamma': 0.001, 'kernel': 'rbf', 'C': 100}\n",
      "0.644 (+/-0.219) pour {'gamma': 0.0001, 'kernel': 'rbf', 'C': 100}\n",
      "0.665 (+/-0.137) pour {'gamma': 0.001, 'kernel': 'rbf', 'C': 1000}\n",
      "0.700 (+/-0.165) pour {'gamma': 0.0001, 'kernel': 'rbf', 'C': 1000}\n",
      "0.818 (+/-0.080) pour {'kernel': 'linear', 'C': 1}\n",
      "0.840 (+/-0.104) pour {'kernel': 'linear', 'C': 10}\n",
      "0.820 (+/-0.143) pour {'kernel': 'linear', 'C': 100}\n",
      "0.827 (+/-0.096) pour {'kernel': 'linear', 'C': 1000}\n",
      "\n",
      "Rapport de classification:\n",
      "\n",
      "Le modèle est entraîné sur le jeu d'entraînement complet.\n",
      "Les scores sont calculés sur le jeu d'évaluation complet.\n",
      "\n",
      "             precision    recall  f1-score   support\n",
      "\n",
      "        0.0       0.86      0.86      0.86        21\n",
      "        1.0       0.82      0.86      0.84        21\n",
      "        2.0       0.75      0.71      0.73        17\n",
      "\n",
      "avg / total       0.81      0.81      0.81        59\n",
      "\n",
      "\n"
     ]
    }
   ],
   "source": [
    "# Parametres a tester\n",
    "tuned_parameters = [{'kernel': ['rbf'], 'gamma': [1e-3, 1e-4],\n",
    "                     'C': [1, 10, 100, 1000]},\n",
    "                    {'kernel': ['linear'], 'C': [1, 10, 100, 1000]}]\n",
    "# Metriques a tester\n",
    "scores = ['precision', 'recall']\n",
    "\n",
    "\n",
    "for score in scores:\n",
    "    print(\"# Optimisation des hyperparamètres pour %s\" % score)\n",
    "    print()\n",
    "\n",
    "    clf = GridSearchCV(SVC(), tuned_parameters, cv=5,\n",
    "                       scoring='%s_macro' % score)\n",
    "    clf.fit(X_train, y_train)\n",
    "\n",
    "    print(\"Meilleurs paramètres:\")\n",
    "    print()\n",
    "    print(clf.best_params_)\n",
    "    print()\n",
    "    print(\"Grid scores:\")\n",
    "    print()\n",
    "    means = clf.cv_results_['mean_test_score']\n",
    "    stds = clf.cv_results_['std_test_score']\n",
    "    for mean, std, params in zip(means, stds, clf.cv_results_['params']):\n",
    "        print(\"%0.3f (+/-%0.03f) pour %r\"\n",
    "              % (mean, std * 2, params))\n",
    "    print()\n",
    "\n",
    "    print(\"Rapport de classification:\")\n",
    "    print()\n",
    "    print(\"Le modèle est entraîné sur le jeu d'entraînement complet.\")\n",
    "    print(\"Les scores sont calculés sur le jeu d'évaluation complet.\")\n",
    "    print()\n",
    "    y_true, y_pred = y_test, clf.predict(X_test)\n",
    "    print(classification_report(y_true, y_pred))\n",
    "    print()"
   ]
  },
  {
   "cell_type": "markdown",
   "metadata": {},
   "source": [
    "## Entraînement de la SVC avec hyper-paramètres optimisés"
   ]
  },
  {
   "cell_type": "code",
   "execution_count": 5,
   "metadata": {},
   "outputs": [],
   "source": [
    "svc = SVC(kernel='linear', C=1).fit(X_train, y_train)"
   ]
  },
  {
   "cell_type": "code",
   "execution_count": 6,
   "metadata": {},
   "outputs": [
    {
     "data": {
      "text/plain": [
       "0.8135593220338984"
      ]
     },
     "execution_count": 6,
     "metadata": {},
     "output_type": "execute_result"
    }
   ],
   "source": [
    "svc.score(X_test,y_test)"
   ]
  },
  {
   "cell_type": "markdown",
   "metadata": {},
   "source": [
    "## Création d'une meshgrid"
   ]
  },
  {
   "cell_type": "code",
   "execution_count": 7,
   "metadata": {},
   "outputs": [],
   "source": [
    "x_min, x_max = X[:, 0].min() - 1, X[:, 0].max() + 1\n",
    "y_min, y_max = X[:, 1].min() - 1, X[:, 1].max() + 1\n",
    "h = (x_max / x_min)/100\n",
    "xx, yy = np.meshgrid(np.arange(x_min, x_max, h), np.arange(y_min, y_max, h))"
   ]
  },
  {
   "cell_type": "markdown",
   "metadata": {},
   "source": [
    "## Affichage de deux paramètres"
   ]
  },
  {
   "cell_type": "code",
   "execution_count": 8,
   "metadata": {},
   "outputs": [
    {
     "data": {
      "image/png": "[encoded data removed]",
      "text/plain": [
       "<Figure size 432x288 with 1 Axes>"
      ]
     },
     "metadata": {},
     "output_type": "display_data"
    }
   ],
   "source": [
    "plt.subplot(1, 1, 1)\n",
    "Z = svc.predict(np.c_[xx.ravel(), yy.ravel()])\n",
    "Z = Z.reshape(xx.shape)\n",
    "plt.contourf(xx, yy, Z, cmap=plt.cm.autumn, alpha=0.7)\n",
    "plt.scatter(X[:, 0], X[:, 1], c=y, cmap=plt.cm.autumn,edgecolors='k')\n",
    "plt.xlabel('alcohol')\n",
    "plt.ylabel('malic_acid')\n",
    "plt.xlim(xx.min(), xx.max())\n",
    "plt.title('SVC avec kernel lineaire')\n",
    "plt.show()"
   ]
  }
 ],
 "metadata": {
  "kernelspec": {
   "display_name": "Python 3",
   "language": "python",
   "name": "python3"
  },
  "language_info": {
   "codemirror_mode": {
    "name": "ipython",
    "version": 3
   },
   "file_extension": ".py",
   "mimetype": "text/x-python",
   "name": "python",
   "nbconvert_exporter": "python",
   "pygments_lexer": "ipython3",
   "version": "3.5.2"
  }
 },
 "nbformat": 4,
 "nbformat_minor": 2
}
