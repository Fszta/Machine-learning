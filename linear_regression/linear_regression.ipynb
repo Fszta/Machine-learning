{
 "cells": [
  {
   "cell_type": "code",
   "execution_count": 1,
   "metadata": {},
   "outputs": [],
   "source": [
    "import random\n",
    "import numpy as np\n",
    "import pandas as pd\n",
    "import matplotlib.pyplot as plt\n",
    "from sklearn import linear_model"
   ]
  },
  {
   "cell_type": "code",
   "execution_count": 78,
   "metadata": {},
   "outputs": [],
   "source": [
    "class LinearRegression():\n",
    "    \"\"\" Classe Régréssion linéaire à 1 variable\n",
    "    \n",
    "    Prend en argument le chemin du fichier csv contenant\n",
    "    la data, le nom de la première colonne X et de la deuxième colonne Y\n",
    "    \n",
    "    \n",
    "    \"\"\"\n",
    "    \n",
    "    def __init__(self,file_csv,column1,column2):\n",
    "        self.file_csv = file_csv\n",
    "        self.column1_name = column1\n",
    "        self.column2_name = column2\n",
    "        \n",
    "    def get_data(self):\n",
    "        \"\"\"Chargement de la data\"\"\"\n",
    "        self.data = pd.read_csv(self.file_csv)\n",
    "        \n",
    "        plt.plot(self.data[self.column1_name],self.data[self.column2_name],'ro', markersize=4)\n",
    "        plt.show()\n",
    "        self.X = self.data[self.column1_name].reshape(-1, 1)\n",
    "        self.Y = self.data[self.column2_name].reshape(-1, 1)\n",
    "        \n",
    "    def create_model(self):\n",
    "        \"\"\"Création du modèle\"\"\"\n",
    "        self.regression = linear_model.LinearRegression()\n",
    "        self.regression.fit(self.X,self.Y)\n",
    "        \n",
    "    def prediction(self):\n",
    "        \"\"\"Création d'un dataset de test et prédiction\"\"\"\n",
    "        \n",
    "        # Création dataset test\n",
    "        data_test = random.sample(range(self.X.min(), self.X.max()), 10)\n",
    "\n",
    "        # Test prédiction\n",
    "        for sample_test in data_test:\n",
    "            predicted_value = int(self.regression.predict(sample_test))\n",
    "            print(\"Variable d'entrée:\", sample_test)\n",
    "            print(\"Sortie prédite : \", predicted_value)\n",
    "            \n",
    "            \n",
    "    def plot_regression(self):\n",
    "        \"\"\"Affichage de la régression linéaire\"\"\"\n",
    "        \n",
    "        prediction = self.regression.predict(np.sort(self.X, axis=0))\n",
    "        plt.plot(self.data[self.column1_name],self.data[self.column2_name],'ro', markersize=3)\n",
    "        plt.plot(np.sort(self.X, axis=0),prediction,color = 'black')\n",
    "        plt.show()\n",
    "        \n",
    "        \n",
    "    def run(self):\n",
    "        self.get_data()\n",
    "        self.create_model()\n",
    "        self.prediction()\n",
    "        self.plot_regression()\n",
    "        \n"
   ]
  },
  {
   "cell_type": "code",
   "execution_count": 79,
   "metadata": {},
   "outputs": [
    {
     "data": {
      "image/png": "[encoded data removed]",
      "text/plain": [
       "<Figure size 432x288 with 1 Axes>"
      ]
     },
     "metadata": {},
     "output_type": "display_data"
    },
    {
     "name": "stdout",
     "output_type": "stream",
     "text": [
      "Variable d'entrée: 244\n",
      "Sortie prédite :  9713\n",
      "Variable d'entrée: 314\n",
      "Sortie prédite :  12581\n",
      "Variable d'entrée: 142\n",
      "Sortie prédite :  5534\n",
      "Variable d'entrée: 123\n",
      "Sortie prédite :  4756\n",
      "Variable d'entrée: 358\n",
      "Sortie prédite :  14384\n",
      "Variable d'entrée: 380\n",
      "Sortie prédite :  15285\n",
      "Variable d'entrée: 44\n",
      "Sortie prédite :  1519\n",
      "Variable d'entrée: 405\n",
      "Sortie prédite :  16309\n",
      "Variable d'entrée: 87\n",
      "Sortie prédite :  3281\n",
      "Variable d'entrée: 175\n",
      "Sortie prédite :  6886\n"
     ]
    },
    {
     "data": {
      "image/png": "[encoded data removed]",
      "text/plain": [
       "<Figure size 432x288 with 1 Axes>"
      ]
     },
     "metadata": {},
     "output_type": "display_data"
    }
   ],
   "source": [
    "linear = LinearRegression(\"house.csv\",\"surface\",\"loyer\")\n",
    "linear.run()"
   ]
  },
  {
   "cell_type": "code",
   "execution_count": null,
   "metadata": {},
   "outputs": [],
   "source": []
  }
 ],
 "metadata": {
  "kernelspec": {
   "display_name": "Python 3",
   "language": "python",
   "name": "python3"
  },
  "language_info": {
   "codemirror_mode": {
    "name": "ipython",
    "version": 3
   },
   "file_extension": ".py",
   "mimetype": "text/x-python",
   "name": "python",
   "nbconvert_exporter": "python",
   "pygments_lexer": "ipython3",
   "version": "3.5.2"
  }
 },
 "nbformat": 4,
 "nbformat_minor": 2
}
